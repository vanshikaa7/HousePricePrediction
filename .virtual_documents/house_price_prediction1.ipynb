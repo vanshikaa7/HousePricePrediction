











import numpy as np
import pandas as pd
import matplotlib.pyplot as plt
import seaborn as sns
import calendar
from pandas.api.types import CategoricalDtype
from sklearn.preprocessing import StandardScaler





train_data_path = r"C:\Users\vatsal goel\house_price_prediction\data\train.csv"
test_data_path = r"C:\Users\vatsal goel\house_price_prediction\data\test.csv"

df_train = pd.read_csv(train_data_path)
df_test = pd.read_csv(test_data_path)
print("Shape of df_train: ", df_train.shape)
print("Shape of df_test: ", df_test.shape)


pd.set_option("display.max_columns", None)
pd.set_option("display.max_rows", None)


df_train.head()


df_test.head()











df = pd.concat([df_train, df_test])
print("Shape of integrated data: ",df.shape)


df.head(5)


df.tail(5)





df.info()





int_features = df.select_dtypes(include = ["int64"]).columns
print("Total number of integer features: ",int_features.shape[0])
print("Integer feature names: ", int_features.tolist())


float_features = df.select_dtypes(include = ["float64"]).columns
print("Total number of float features: ",float_features.shape[0])
print("Float feature names: ", float_features.tolist())


cat_features = df.select_dtypes(include = ["object"]).columns
print("Total number of categorical features: ",cat_features.shape[0])
print("categorical feature names: ", cat_features.tolist())





df.describe()


df.describe().shape








plt.figure(figsize=(16,9))
sns.heatmap(df.isnull())
plt.savefig("EDA_img/heatmap_DF_of_null_values.png")





df = df.set_index("Id")


null_count = df.isnull().sum()
null_count


null_percent = df.isnull().sum()/df.shape[0] * 100
null_percent





"""As per domain knowledge we will not drop that features instead none value we will add constant value NA"""
miss_value_50_perc = null_percent[null_percent>50]
miss_value_50_perc


df["Alley"].value_counts()


"""As per domain knowledge we will not drop those FireplaceQu features instead none value we will add constant value NA"""
miss_value_20_50_perc = null_percent[(null_percent>20) & (null_percent < 51)]
miss_value_20_50_perc


miss_value_5_20_perc = null_percent[(null_percent>5) & (null_percent < 21)]
miss_value_5_20_perc


df["LotFrontage"].value_counts().head()


sns.heatmap(df[miss_value_5_20_perc.keys()].isnull())





missing_value_feat = null_percent[null_percent>0]
print("Total missing value features = ", len(missing_value_feat))


missing_value_feat



cat_na_feat = missing_value_feat[missing_value_feat.keys().isin(cat_features)]
print("Total number of categorical missing features = ", len(cat_na_feat))
cat_na_feat


int_na_feat = missing_value_feat[missing_value_feat.keys().isin(int_features)]
print("Total number of integer missing features = ", len(int_na_feat))
int_na_feat


float_na_feat = missing_value_feat[missing_value_feat.keys().isin(float_features)]
print("Total number of float missing features = ", len(float_na_feat))
float_na_feat





df["MSZoning"].value_counts()


sns.countplot(df["MSZoning"])


### backup of original data
df_mvi = df.copy()
df_mvi.shape


mszoning_mode = df["MSZoning"].mode()[0]
df_mvi["MSZoning"].replace(np.nan, mszoning_mode, inplace=True)
df_mvi["MSZoning"].isnull().sum()


sns.countplot(df_mvi["MSZoning"])


def oldNewCountPlot(df, df_new, feature):
    plt.subplot(121)
    sns.countplot(df[feature])
    plt.title("Old data distribution")
    plt.subplot(122)
    sns.countplot(df_new[feature])
    plt.title("New data distribution")


oldNewCountPlot(df, df_mvi, "MSZoning")





df_mvi["Alley"].value_counts()


alley_cont = "NA"
df_mvi["Alley"].replace(np.nan, alley_cont, inplace=True)
df_mvi["Alley"].isnull().sum()


oldNewCountPlot(df, df_mvi, "Alley")





def boxHistPlot(df, figsize=(16, 5)):
    plt.figure(figsize=figsize)
    plt.subplot(121)
    sns.boxplot(df)
    plt.subplot(122)
    sns.distplot(df)


boxHistPlot(df["LotFrontage"])


lotfrontage_mean = df["LotFrontage"].mean()
df_mvi["LotFrontage"].replace(np.nan, lotfrontage_mean, inplace=True)
df_mvi["LotFrontage"].isnull().sum()


def oldNewBoxHistPlot(df, df_new, feature, figsize=(16,10)):
    plt.figure(figsize=figsize)
    plt.subplot(221)
    sns.boxplot(df[feature])
    plt.title("Old data distribution")
    plt.subplot(222)
    sns.distplot(df[feature])
    plt.title("Old data distribution")
    plt.subplot(223)
    sns.boxplot(df_new[feature])
    plt.title("New data distribution")
    plt.subplot(224)
    sns.distplot(df_new[feature])
    plt.title("New data distribution")


oldNewBoxHistPlot(df,df_mvi, "LotFrontage")





df["Utilities"].value_counts()


utilities_mode = df["Utilities"].mode()[0]
df_mvi["Utilities"].replace(np.nan, utilities_mode, inplace=True)
df_mvi["Utilities"].isnull().sum()





df["Exterior1st"].value_counts()


df["Exterior2nd"].value_counts()


exterior1st_mode = df["Exterior1st"].mode()[0]
exterior2nd_mode = df["Exterior2nd"].mode()[0]
df_mvi["Exterior1st"].replace(np.nan, exterior1st_mode, inplace=True)
df_mvi["Exterior2nd"].replace(np.nan, exterior2nd_mode, inplace=True)
print("E1st is null: ", df_mvi["Exterior1st"].isnull().sum())
print("E2nd is null: ", df_mvi["Exterior2nd"].isnull().sum())





sns.heatmap(df[["MasVnrType", "MasVnrArea"]].isnull())


df[df[["MasVnrType", "MasVnrArea"]].isnull().any(axis=1)]


masvnrtype_mode = df["MasVnrType"].mode()[0]
df_mvi["MasVnrType"].replace(np.nan, masvnrtype_mode, inplace=True)
df_mvi["MasVnrType"].isnull().sum()


boxHistPlot(df["MasVnrArea"])


masvnrarea_cont = 0
df_mvi["MasVnrArea"].replace(np.nan, masvnrarea_cont, inplace=True)
df_mvi["MasVnrArea"].isnull().sum()





"""cat_bsmt_feat = 
BsmtQual         2.774923
BsmtCond         2.809181
BsmtExposure     2.809181
BsmtFinType1     2.706406
BsmtFinType2     2.740665

num_bsmt_feat = 
BsmtFinSF1       0.034258
BsmtFinSF2       0.034258
BsmtUnfSF        0.034258
TotalBsmtSF      0.034258
BsmtFullBath     0.068517
BsmtHalfBath     0.068517"""


cat_bsmt_feat = ["BsmtQual",         
"BsmtCond",      
"BsmtExposure",     
"BsmtFinType1",     
"BsmtFinType2"]     

num_bsmt_feat = ["BsmtFinSF1",       
"BsmtFinSF2",       
"BsmtUnfSF",        
"TotalBsmtSF",      
"BsmtFullBath",    
"BsmtHalfBath"]  


sns.heatmap(df[cat_bsmt_feat].isnull())


for feat in cat_bsmt_feat:
    print(f"Value count of {feat}: {df[feat].value_counts()}")


bsmt_cont = "NA"
for feat in cat_bsmt_feat:
    df_mvi[feat].replace(np.nan, bsmt_cont, inplace=True)


df_mvi[cat_bsmt_feat].isnull().sum()


sns.heatmap(df[num_bsmt_feat].isnull())


df_bsmt = df[cat_bsmt_feat + num_bsmt_feat]
df_bsmt[df_bsmt.isnull().any(axis=1)]


bsmt_num = 0
for feat in num_bsmt_feat:
    df_mvi[feat].replace(np.nan, bsmt_num, inplace=True)


df_mvi[num_bsmt_feat].isnull().sum()





df["Electrical"].value_counts()


df["KitchenQual"].value_counts()


df_ekk = df[["Electrical","KitchenQual","KitchenAbvGr"]]
df_ekk[df_ekk.isnull().any(axis=1)]


electrical_mode = df["Electrical"].mode()[0]
df_mvi["Electrical"].replace(np.nan, electrical_mode, inplace=True)
df_mvi["Electrical"].isnull().sum()


kitchenQual_mode = df["KitchenQual"].mode()[0]
df_mvi["KitchenQual"].replace(np.nan, kitchenQual_mode, inplace=True)
df_mvi["KitchenQual"].isnull().sum()





df["Functional"].value_counts()


df["SaleType"].value_counts()


functional_mode = df["Functional"].mode()[0]
df_mvi["Functional"].replace(np.nan, functional_mode, inplace=True)
df_mvi["Functional"].isnull().sum()


saleType_mode = df["SaleType"].mode()[0]
df_mvi["SaleType"].replace(np.nan, saleType_mode, inplace=True)
df_mvi["SaleType"].isnull().sum()


other_cat_feat = ["FireplaceQu",
"PoolQC",
"Fence",
"MiscFeature"]
for feat in other_cat_feat:
    print(f"Value count of {feat}: {df[feat].value_counts()}")


fireplaceQu_const = "NA"
df_mvi["FireplaceQu"].replace(np.nan, fireplaceQu_const, inplace=True)
df_mvi["FireplaceQu"].isnull().sum()


poolqc_const = "NA"
df_mvi["PoolQC"].replace(np.nan, poolqc_const, inplace=True)
df_mvi["PoolQC"].isnull().sum()


fence_const = "NA"
df_mvi["Fence"].replace(np.nan, fence_const, inplace=True)
df_mvi["Fence"].isnull().sum()


miscfeature_const = "NA"
df_mvi["MiscFeature"].replace(np.nan, miscfeature_const, inplace=True)
df_mvi["MiscFeature"].isnull().sum()








cat_garage_feat = ["GarageType", "GarageFinish", "GarageQual", "GarageCond"]
num_garage_feat = ["GarageYrBlt", "GarageCars", "GarageArea"]
df_garage = df[num_garage_feat + cat_garage_feat]
df_garage[df_garage.isnull().any(axis=1)]


garage_const = "NA"
for feat in cat_garage_feat:
    df_mvi[feat].replace(np.nan, garage_const, inplace=True)
df_mvi[cat_garage_feat].isnull().sum()


garage_num = 0
for feat in num_garage_feat:
    df_mvi[feat].replace(np.nan, garage_num, inplace=True)
df_mvi[num_garage_feat].isnull().sum()


df_mvi.isnull().any(axis=1).sum()





for_num_conv = ["MSSubClass", "YearBuilt", "YearRemodAdd", "GarageYrBlt", "MoSold", "YrSold"]
for feat in for_num_conv:
    print(f"{feat}: data type = {df_mvi[feat].dtype}")


df_mvi[for_num_conv].head()


df_mvi["MoSold"].unique()


calendar.month_abbr[12]


df_mvi["MoSold"] = df_mvi["MoSold"].apply(lambda x: calendar.month_abbr[x])
df_mvi["MoSold"].unique()


for feat in for_num_conv:
    df_mvi[feat] = df_mvi[feat].astype(str)


for feat in for_num_conv:
    print(f"{feat}: data type = {df_mvi[feat].dtype}")





original_end_var = [
"ExterQual",
"ExterCond",
"BsmtQual",
"BsmtCond",
"BsmtExposure",
"BsmtFinType1",
"BsmtFinSF1",
"BsmtFinType2",
"HeatingQC",
"KitchenQual",
"FireplaceQu",
"GarageQual",
"GarageCond",
"PoolQC",
"Functional",
"GarageFinish",
"PavedDrive",
"Utilities"]

print("Total number of features to convert ordinal numerical format: ", len(original_end_var))


df_mvi["ExterQual"] = df_mvi["ExterQual"].astype(CategoricalDtype(categories=["Po","Fa","TA","Gd","Ex"],ordered=True)).cat.codes


df_mvi["BsmtExposure"] = df_mvi["BsmtExposure"].astype(CategoricalDtype(categories=["NA","No","Mn","Av","Gd"],ordered=True)).cat.codes


df_mvi["BsmtExposure"].value_counts()


df_mvi['BsmtCond'] = df_mvi['BsmtCond'].astype(CategoricalDtype(categories=['NA', 'Po', 'Fa', 'TA', 'Gd', 'Ex'], ordered = True)).cat.codes
df_mvi['BsmtFinType1'] = df_mvi['BsmtFinType1'].astype(CategoricalDtype(categories=['NA', 'Unf', 'LwQ', 'Rec', 'BLQ','ALQ', 'GLQ'], ordered = True)).cat.codes
df_mvi['BsmtFinType2'] = df_mvi['BsmtFinType2'].astype(CategoricalDtype(categories=['NA', 'Unf', 'LwQ', 'Rec', 'BLQ','ALQ', 'GLQ'], ordered = True)).cat.codes
df_mvi['BsmtQual'] = df_mvi['BsmtQual'].astype(CategoricalDtype(categories=['NA', 'Po', 'Fa', 'TA', 'Gd', 'Ex'], ordered = True)).cat.codes
df_mvi['ExterCond'] = df_mvi['ExterCond'].astype(CategoricalDtype(categories=['Po', 'Fa', 'TA', 'Gd', 'Ex'], ordered = True)).cat.codes
df_mvi['Functional'] = df_mvi['Functional'].astype(CategoricalDtype(categories=['Sal', 'Sev', 'Maj2', 'Maj1', 'Mod','Min2','Min1', 'Typ'], ordered = True)).cat.codes
df_mvi['GarageCond'] = df_mvi['GarageCond'].astype(CategoricalDtype(categories=['NA', 'Po', 'Fa', 'TA', 'Gd', 'Ex'], ordered = True)).cat.codes
df_mvi['GarageQual'] = df_mvi['GarageQual'].astype(CategoricalDtype(categories=['NA', 'Po', 'Fa', 'TA', 'Gd', 'Ex'], ordered = True)).cat.codes
df_mvi['GarageFinish'] = df_mvi['GarageFinish'].astype(CategoricalDtype(categories=['NA', 'Unf', 'RFn', 'Fin'], ordered = True)).cat.codes
df_mvi['HeatingQC'] = df_mvi['HeatingQC'].astype(CategoricalDtype(categories=['Po', 'Fa', 'TA', 'Gd', 'Ex'], ordered = True)).cat.codes
df_mvi['KitchenQual'] = df_mvi['KitchenQual'].astype(CategoricalDtype(categories=['Po', 'Fa', 'TA', 'Gd', 'Ex'], ordered = True)).cat.codes
df_mvi['PavedDrive'] = df_mvi['PavedDrive'].astype(CategoricalDtype(categories=['N', 'P', 'Y'], ordered = True)).cat.codes
df_mvi['Utilities'] = df_mvi['Utilities'].astype(CategoricalDtype(categories=['ELO', 'NASeWa', 'NASeWr', 'AllPub'], ordered = True)).cat.codes


df_mvi['FireplaceQu'] = df_mvi['FireplaceQu'].astype(CategoricalDtype(categories=['NA','Po', 'Fa', 'TA', 'Gd', 'Ex'], ordered = True)).cat.codes
df_mvi['PoolQC'] = df_mvi['PoolQC'].astype(CategoricalDtype(categories=['NA','Fa', 'TA', 'Gd', 'Ex'], ordered = True)).cat.codes


df_mvi.info()





df_encod = df_mvi.copy()
object_features = df_encod.select_dtypes(include="object").columns.tolist()
print("Total object data type features: ", len(object_features))
print("Features: \n",object_features)


df_encod[object_features].head(2)


print("Shape of DF before encoding: ",df_encod.shape)
df_encod = pd.get_dummies(df_encod, 
                          columns = object_features, 
                          prefix=object_features, 
                          drop_first = True)
print("Shape of DF after encoding: ",df_encod.shape)


df_encod.head(2)


df_encod.select_dtypes(include="object").columns.tolist()





df_encod.shape


len_train = df_train.shape[0]
len_train


x_train = df_encod[:len_train].drop("SalePrice", axis=1)
y_train = df_encod["SalePrice"][:len_train]
x_test = df_encod[len_train:].drop("SalePrice",axis=1)
print("Shape of x_train data: ",x_train.shape)
print("Shape of y_train data: ",y_train.shape)
print("Shape of x_test data: ",x_test.shape)





sc = StandardScaler()
sc.fit(x_train)
# Formula = z = (x-u)/s
x_train = sc.transform(x_train)
x_test = sc.transform(x_test)


x_train[:3,:]


x_test[:3,:]


### Carry forward for deployment
#sc.mean_
#sc.n_features_in_
#sc.n_samples_seen_
#sc.scale_
#sc.var_
#sc.with_mean
#sc.with_std





!pip install xgboost


from sklearn.svm import SVR
from sklearn.linear_model import LinearRegression
from sklearn.linear_model import SGDRegressor
from sklearn.neighbors import KNeighborsRegressor
from sklearn.gaussian_process import GaussianProcessRegressor
from sklearn.tree import DecisionTreeRegressor
from sklearn.ensemble import GradientBoostingRegressor
from sklearn.ensemble import RandomForestRegressor
from sklearn.isotonic import IsotonicRegression
from sklearn.neural_network import MLPRegressor
from xgboost import XGBRegressor


svr = SVR()
lr = LinearRegression()
sgdr = SGDRegressor()
knr = KNeighborsRegressor()
gpr = GaussianProcessRegressor()
dtr = DecisionTreeRegressor()
gbr = GradientBoostingRegressor()
rfr = RandomForestRegressor()
xgbr = XGBRegressor()
mlpr = MLPRegressor()
ir = IsotonicRegression()


models = {"a":["LinearRegression",lr],
    "b":["SVR",svr],
    "c":["SGDRegressor",sgdr],
    "d":["KNeighborsRegressor",knr],
    "e":["GaussianProcessRegressor",gpr],
    "f":["DecisionTreeRegressor",dtr],
    "g":["GradientBoostingRegressor",gbr],
    "h":["RandomForestRegressor",rfr],
    "i":["XGBRegressor",xgbr],
    "j":["MLPRegressor",mlpr],
    "k":["IsotonicRegression",ir]
}


from sklearn.model_selection import KFold, cross_val_score
from sklearn.metrics import make_scorer, r2_score

def test_model(model, x_train=x_train, y_train=y_train):
    cv = KFold(n_splits = 7, shuffle=True, random_state = 45)
    r2 = make_scorer(r2_score)
    r2_val_score = cross_val_score(model, x_train, y_train, cv=cv, scoring = r2)
    score = [r2_val_score.mean()]
    return score


models_score = []
for model in models:
    print("Training model: ",models[model][0])
    score = test_model(models[model][1],x_train, y_train)
    print("Score of model: ",score)
    models_score.append([models[model][0],score[0]])


models_score



